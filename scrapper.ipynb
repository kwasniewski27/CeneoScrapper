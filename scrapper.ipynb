{
 "cells": [
  {
   "cell_type": "markdown",
   "metadata": {},
   "source": [
    "### Import bibliotek"
   ]
  },
  {
   "cell_type": "code",
   "execution_count": 15,
   "metadata": {},
   "outputs": [],
   "source": [
    "import json\n",
    "import os\n",
    "import requests\n",
    "from bs4 import BeautifulSoup"
   ]
  },
  {
   "cell_type": "markdown",
   "metadata": {},
   "source": [
    "### Pobranie ze strony Ceneo.pl opinii o konkretnym produkcie\n"
   ]
  },
  {
   "cell_type": "code",
   "execution_count": 13,
   "metadata": {},
   "outputs": [],
   "source": [
    "with open(\"./headers.json\", \"r\")as jf:\n",
    "    headers = json.load(jf)\n",
    "\n"
   ]
  },
  {
   "cell_type": "code",
   "execution_count": 22,
   "metadata": {},
   "outputs": [
    {
     "name": "stdout",
     "output_type": "stream",
     "text": [
      "https://www.ceneo.pl/10869054#tab=reviews\n",
      "10\n",
      "https://www.ceneo.pl/10869054/opinie-2\n",
      "10\n",
      "https://www.ceneo.pl/10869054/opinie-3\n",
      "3\n",
      "[{'review_id': '8212262', 'author': 'Miedziarek', 'recomendation': 'Polecam', 'stars': '4/5', 'content': 'Preparat na chwasty jednoliścienne bardzo dobry, zakupiony głównie na chwastnicę i ze względu na fakt, iż ma nie niszczyć trawy. Na razie spisuje się świetnie.', 'pros': ['jakość', 'skuteczność', 'wydajność'], 'cons': [], 'likes': '0', 'dislikes': '1', 'publish_date': '2018-08-03 21:20:53', 'purchase_date': '2018-07-11 07:46:13'}, {'review_id': '14892935', 'author': 'm...2', 'recomendation': 'Polecam', 'stars': '4,5/5', 'content': 'Działa  zgodnie z opisem. Pozbyłem się problemu chwastnicy na trawniku przy zastosowaniu odpowiedniej dawki.', 'pros': [], 'cons': [], 'likes': '1', 'dislikes': '0', 'publish_date': '2021-08-27 14:14:52', 'purchase_date': '2021-07-30 11:39:32'}, {'review_id': '12497872', 'author': 'a...8', 'recomendation': 'Polecam', 'stars': '4,5/5', 'content': 'Polecam', 'pros': ['jakość', 'skuteczność', 'wydajność'], 'cons': [], 'likes': '0', 'dislikes': '0', 'publish_date': '2020-05-22 18:18:16', 'purchase_date': '2020-04-20 23:39:00'}, {'review_id': '4885330', 'author': 'Paweł', 'recomendation': 'Polecam', 'stars': '5/5', 'content': 'Jeden z nielicznych skuteczny na chwastnicę. Polecam.', 'pros': [], 'cons': [], 'likes': '0', 'dislikes': '0', 'publish_date': '2017-07-26 11:53:48', 'purchase_date': '2017-07-21 21:37:34'}, {'review_id': '8183176', 'author': 'Małgorzta', 'recomendation': 'Polecam', 'stars': '5/5', 'content': 'jeszcze nie użyłam', 'pros': ['skuteczność', 'wydajność'], 'cons': [], 'likes': '0', 'dislikes': '2', 'publish_date': '2018-07-26 16:14:28', 'purchase_date': '2018-07-17 17:42:39'}, {'review_id': '7916223', 'author': 'Anna', 'recomendation': 'Polecam', 'stars': '5/5', 'content': 'Mimo przerwy świątecznej towar dotarł szybko', 'pros': [], 'cons': [], 'likes': '0', 'dislikes': '0', 'publish_date': '2018-05-04 21:31:43', 'purchase_date': '2018-04-28 14:06:33'}, {'review_id': '4668292', 'author': 'lukas', 'recomendation': 'Polecam', 'stars': '5/5', 'content': 'Bardzo dobry produkt w przystępnej cenie.', 'pros': [], 'cons': [], 'likes': '0', 'dislikes': '0', 'publish_date': '2017-05-16 10:56:47', 'purchase_date': '2017-05-01 21:20:46'}, {'review_id': '14935938', 'author': 'm...k', 'recomendation': 'Polecam', 'stars': '4,5/5', 'content': 'Pierwszy który działa na chastnice', 'pros': ['jakość', 'skuteczność', 'wydajność'], 'cons': [], 'likes': '0', 'dislikes': '0', 'publish_date': '2021-09-09 07:14:37', 'purchase_date': '2021-08-09 09:03:08'}, {'review_id': '3194380', 'author': 'Magdalena', 'recomendation': 'Polecam', 'stars': '5/5', 'content': 'Srodek skuteczny.', 'pros': [], 'cons': [], 'likes': '1', 'dislikes': '0', 'publish_date': '2015-06-16 11:45:44', 'purchase_date': '2015-06-04 21:12:57'}, {'review_id': '12978352', 'author': 'r...j', 'recomendation': 'Polecam', 'stars': '5/5', 'content': 'Działa bardzo skutecznie.', 'pros': ['jakość', 'skuteczność', 'wydajność'], 'cons': [], 'likes': '0', 'dislikes': '0', 'publish_date': '2020-08-19 22:03:25', 'purchase_date': '2020-08-03 13:23:05'}, {'review_id': '14741343', 'author': 'b...d', 'recomendation': 'Polecam', 'stars': '5/5', 'content': 'wszystko zgodnie z opisem', 'pros': [], 'cons': [], 'likes': '0', 'dislikes': '0', 'publish_date': '2021-07-20 11:27:59', 'purchase_date': '2021-07-11 20:09:01'}, {'review_id': '14829362', 'author': 'p...6', 'recomendation': 'Polecam', 'stars': '5/5', 'content': 'Spełnia swoje zadanie', 'pros': ['jakość', 'skuteczność', 'wydajność'], 'cons': [], 'likes': '0', 'dislikes': '0', 'publish_date': '2021-08-11 16:57:17', 'purchase_date': '2021-07-11 17:16:13'}, {'review_id': '17660619', 'author': 'a...s', 'recomendation': 'Polecam', 'stars': '4,5/5', 'content': 'Bardzo dobry środek.', 'pros': ['jakość', 'skuteczność', 'wydajność'], 'cons': [], 'likes': '0', 'dislikes': '0', 'publish_date': '2023-06-29 16:02:19', 'purchase_date': '2023-06-25 21:45:32'}, {'review_id': '17473225', 'author': 'S...3', 'recomendation': 'Polecam', 'stars': '5/5', 'content': 'Produkt jest ok.', 'pros': ['jakość', 'skuteczność', 'wydajność'], 'cons': [], 'likes': '0', 'dislikes': '0', 'publish_date': '2023-05-04 15:36:27', 'purchase_date': '2023-04-15 08:35:50'}, {'review_id': '14540113', 'author': 'Paweł', 'recomendation': 'Polecam', 'stars': '5/5', 'content': 'Bardzo dobry', 'pros': ['jakość', 'skuteczność', 'wydajność'], 'cons': [], 'likes': '0', 'dislikes': '0', 'publish_date': '2021-05-31 20:55:58', 'purchase_date': '2021-05-05 20:58:22'}, {'review_id': '14846305', 'author': 'm...k', 'recomendation': 'Polecam', 'stars': '5/5', 'content': 'wszystko ok', 'pros': [], 'cons': [], 'likes': '0', 'dislikes': '0', 'publish_date': '2021-08-16 14:13:58', 'purchase_date': '2021-07-16 15:48:31'}, {'review_id': '14322209', 'author': 'm...o', 'recomendation': 'Polecam', 'stars': '5/5', 'content': 'Skuteczny', 'pros': ['jakość', 'skuteczność', 'wydajność'], 'cons': [], 'likes': '0', 'dislikes': '0', 'publish_date': '2021-04-20 12:20:40', 'purchase_date': '2021-04-09 16:42:17'}, {'review_id': '14777716', 'author': 'w...k', 'recomendation': 'Polecam', 'stars': '5/5', 'content': 'Polecam', 'pros': ['skuteczność', 'wydajność'], 'cons': [], 'likes': '0', 'dislikes': '0', 'publish_date': '2021-07-28 21:45:30', 'purchase_date': '2021-07-12 21:43:31'}, {'review_id': '13411098', 'author': 'm...1', 'recomendation': 'Polecam', 'stars': '5/5', 'content': 'Polecam', 'pros': [], 'cons': [], 'likes': '0', 'dislikes': '0', 'publish_date': '2020-11-19 20:42:20', 'purchase_date': '2020-11-05 21:02:37'}, {'review_id': '14901115', 'author': 'a...5', 'recomendation': 'Polecam', 'stars': '5/5', 'content': 'Dobrt', 'pros': [], 'cons': [], 'likes': '0', 'dislikes': '0', 'publish_date': '2021-08-30 11:06:23', 'purchase_date': '2021-08-19 23:54:45'}, {'review_id': '8038704', 'author': 'Nowy', 'recomendation': 'Polecam', 'stars': '5/5', 'content': 'Ok.', 'pros': [], 'cons': [], 'likes': '0', 'dislikes': '0', 'publish_date': '2018-06-12 07:30:43', 'purchase_date': '2018-06-06 21:53:57'}, {'review_id': '16311771', 'author': 'P...s', 'recomendation': 'Polecam', 'stars': '5/5', 'content': 'ok', 'pros': [], 'cons': [], 'likes': '0', 'dislikes': '0', 'publish_date': '2022-07-13 11:08:21', 'purchase_date': '2022-07-10 14:45:11'}, {'review_id': '14567990', 'author': 'p...z', 'recomendation': 'Polecam', 'stars': '5/5', 'content': 'ok', 'pros': [], 'cons': [], 'likes': '0', 'dislikes': '1', 'publish_date': '2021-06-07 21:48:15', 'purchase_date': '2021-05-26 11:35:01'}]\n"
     ]
    }
   ],
   "source": [
    "product_id = \"10869054\"\n",
    "next_page = f\"https://www.ceneo.pl/{product_id}#tab=reviews\"\n",
    "all_reviews = []\n",
    "while next_page:\n",
    "    response = requests.get(next_page, headers=headers)\n",
    "    print(next_page)\n",
    "    if response.status_code == 200:\n",
    "        page_dom = BeautifulSoup(response.text, \"html.parser\")\n",
    "        reviews = page_dom.select(\"div.js_product-review:not(.user-post--highlight)\")\n",
    "        print(len(reviews))\n",
    "        for review in reviews:\n",
    "            try:\n",
    "                single_review = {\n",
    "                    \"review_id\": review[\"data-entry-id\"],\n",
    "                    \"author\": review.select_one(\"span.user-post__author-name\").text.strip(),\n",
    "                    \"recomendation\": review.select_one(\"span.user-post__author-recomendation > em\").text.strip(),\n",
    "                    \"stars\": review.select_one(\"span.user-post__score-count\").text.strip(),\n",
    "                    \"content\": review.select_one(\"div.user-post__text\").text.strip(),\n",
    "                    \"pros\": [p.text.strip() for p in review.select(\"div.review-feature__item--positive\")],\n",
    "                    \"cons\": [c.text.strip() for c in review.select(\"div.review-feature__item--negative\")],\n",
    "                    \"likes\": review.select_one(\"button.vote-yes > span\").text.strip(),\n",
    "                    \"dislikes\": review.select_one(\"button.vote-no > span\").text.strip(),\n",
    "                    \"publish_date\": review.select_one(\"span.user-post__published > time:nth-child(1)\")['datetime'].strip(),\n",
    "                    \"purchase_date\": review.select_one(\"span.user-post__published > time:nth-child(2)\")['datetime'].strip()\n",
    "                }\n",
    "                all_reviews.append(single_review)\n",
    "            except (AttributeError, TypeError):\n",
    "                pass\n",
    "        try:\n",
    "            next_page = \"https://www.ceneo.pl\" + page_dom.select_one(\"a.pagination__next\")[\"href\"]\n",
    "        except TypeError:\n",
    "            next_page = None\n",
    "print(all_reviews)\n",
    "        "
   ]
  },
  {
   "cell_type": "markdown",
   "metadata": {},
   "source": [
    "### Zapisanie wszystkich opinii w bazie danych"
   ]
  },
  {
   "cell_type": "code",
   "execution_count": 18,
   "metadata": {},
   "outputs": [],
   "source": [
    "if not os.path.exists(\"./opinions\"):\n",
    "    os.mkdir(\"./opinions\")"
   ]
  },
  {
   "cell_type": "code",
   "execution_count": 19,
   "metadata": {},
   "outputs": [],
   "source": [
    "with open(f\"./opinions/{product_id}.json\", \"w\", encoding = \"UTF-8\") as jf:\n",
    "    json.dump(all_reviews, jf, indent=4, ensure_ascii=False)"
   ]
  }
 ],
 "metadata": {
  "kernelspec": {
   "display_name": ".venv",
   "language": "python",
   "name": "python3"
  },
  "language_info": {
   "codemirror_mode": {
    "name": "ipython",
    "version": 3
   },
   "file_extension": ".py",
   "mimetype": "text/x-python",
   "name": "python",
   "nbconvert_exporter": "python",
   "pygments_lexer": "ipython3",
   "version": "3.13.0"
  }
 },
 "nbformat": 4,
 "nbformat_minor": 2
}
