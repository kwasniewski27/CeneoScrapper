{
 "cells": [
  {
   "cell_type": "markdown",
   "metadata": {},
   "source": [
    "### Import bibliotek"
   ]
  },
  {
   "cell_type": "code",
   "execution_count": null,
   "metadata": {},
   "outputs": [],
   "source": [
    "import requests\n",
    "from bs4 import BeautifulSoup"
   ]
  },
  {
   "cell_type": "markdown",
   "metadata": {},
   "source": [
    "### Wysłanie żądania dostępu do strony z opiniami o produkcie"
   ]
  },
  {
   "cell_type": "code",
   "execution_count": null,
   "metadata": {},
   "outputs": [],
   "source": [
    "url = \"https://www.ceneo.pl/84514582#tab=reviews\"\n",
    "response = requests.get(url)\n",
    "response.status_code"
   ]
  },
  {
   "cell_type": "code",
   "execution_count": null,
   "metadata": {},
   "outputs": [],
   "source": [
    "if response.status_code == 200:\n",
    "    page_dom = BeautifulSoup(response.text, \"html.parser\")\n",
    "    reviews = page_dom.select(\"div.js_product-review:not(.user-post--highlight)\")"
   ]
  },
  {
   "cell_type": "markdown",
   "metadata": {},
   "source": [
    "### Dla każdej z opinii wydobycie z kodu HTML poszczególnych składowych i zapisanie ich w postaci złożonych struktur danych"
   ]
  },
  {
   "cell_type": "code",
   "execution_count": null,
   "metadata": {},
   "outputs": [],
   "source": [
    "for review in reviews:\n",
    "    try:\n",
    "        single_review = {\n",
    "            \"review_id\": review[\"data-entry-id\"],\n",
    "            \"author\": review.select_one(\"span.user-post__author-name\").text.strip(),\n",
    "            \"recomendation\": review.select_one(\"span.user-post__author-recomendation > em\").text.strip(),\n",
    "            \"stars\": review.select_one(\"span.user-post__score-count\").text.strip(),\n",
    "            \"content\": review.select_one(\"div.user-post__text\").text.strip(),\n",
    "            \"pros\": [p.text.strip() for p in review.select(\"div.review-feature__item--positive\")],\n",
    "            \"cons\": [c.text.strip() for c in review.select(\"div.review-feature__item--negative\")],\n",
    "            \"likes\": review.select_one(\"button.vote-yes > span\").text.strip(),\n",
    "            \"dislikes\": review.select_one(\"button.vote-no > span\").text.strip(),\n",
    "            \"publish_date\": review.select_one(\"span.user-post__published > time:nth-child(1)\")['datetime'].strip(),\n",
    "            \"purchase_date\": review.select_one(\"span.user-post__published > time:nth-child(2)\")['datetime'].strip()\n",
    "        }\n",
    "        print(single_review)\n",
    "    except (AttributeError, TypeError):\n",
    "        pass\n",
    "    "
   ]
  }
 ],
 "metadata": {
  "kernelspec": {
   "display_name": ".venv",
   "language": "python",
   "name": "python3"
  },
  "language_info": {
   "codemirror_mode": {
    "name": "ipython",
    "version": 3
   },
   "file_extension": ".py",
   "mimetype": "text/x-python",
   "name": "python",
   "nbconvert_exporter": "python",
   "pygments_lexer": "ipython3",
   "version": "3.13.0"
  }
 },
 "nbformat": 4,
 "nbformat_minor": 2
}
