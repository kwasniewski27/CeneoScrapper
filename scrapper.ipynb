{
 "cells": [
  {
   "cell_type": "markdown",
   "metadata": {},
   "source": [
    "### Import bibliotek"
   ]
  },
  {
   "cell_type": "code",
   "execution_count": 1,
   "metadata": {},
   "outputs": [],
   "source": [
    "import json\n",
    "import os\n",
    "import requests\n",
    "from bs4 import BeautifulSoup"
   ]
  },
  {
   "cell_type": "markdown",
   "metadata": {},
   "source": [
    "### Narzędzia"
   ]
  },
  {
   "cell_type": "code",
   "execution_count": 2,
   "metadata": {},
   "outputs": [],
   "source": [
    "def extract(ancestor, selector = None, attribute = None, many = False):\n",
    "    if selector:\n",
    "        if many:\n",
    "            if attribute:\n",
    "                return [item[attribute].strip() for item in ancestor.select(selector)]\n",
    "            return [item.text.strip() for item in ancestor.select(selector)]\n",
    "        if attribute:\n",
    "            try:\n",
    "                return ancestor.select_one(selector)[attribute].strip()\n",
    "            except TypeError:\n",
    "                return None\n",
    "        try:\n",
    "            return ancestor.select_one(selector).text.strip()\n",
    "        except AttributeError:\n",
    "            return None     \n",
    "    if attribute:\n",
    "        try:\n",
    "            return ancestor[attribute]\n",
    "        except TypeError:\n",
    "            return None\n",
    "    return ancestor.text.strip()"
   ]
  },
  {
   "cell_type": "code",
   "execution_count": 3,
   "metadata": {},
   "outputs": [],
   "source": [
    "review_scheme = {\n",
    "    \"review_id\": (None, \"data-entry-id\"),\n",
    "    \"author\": (\"span.user-post__author-name\",),\n",
    "    \"recomendation\": (\"span.user-post__author-recomendation > em\",),\n",
    "    \"stars\": (\"span.user-post__score-count\",),\n",
    "    \"content\": (\"div.user-post__text\",),\n",
    "    \"pros\": (\"div.review-feature__item--positive\", None, True,),\n",
    "    \"cons\": (\"div.review-feature__item--negative\", None, True,),\n",
    "    \"likes\": (\"button.vote-yes > span\",),\n",
    "    \"dislikes\": (\"button.vote-no > span\",),\n",
    "    \"publish_date\": (\"span.user-post__published > time:nth-child(1)\", 'datetime',),\n",
    "    \"purchase_date\": (\"span.user-post__published > time:nth-child(2)\", 'datetime',),\n",
    "            }"
   ]
  },
  {
   "cell_type": "markdown",
   "metadata": {},
   "source": [
    "### Pobranie ze strony Ceneo.pl opinii o konkretnym produkcie\n"
   ]
  },
  {
   "cell_type": "code",
   "execution_count": 4,
   "metadata": {},
   "outputs": [],
   "source": [
    "with open(\"./headers.json\", \"r\")as jf:\n",
    "    headers = json.load(jf)\n",
    "\n"
   ]
  },
  {
   "cell_type": "code",
   "execution_count": 5,
   "metadata": {},
   "outputs": [
    {
     "name": "stdout",
     "output_type": "stream",
     "text": [
      "https://www.ceneo.pl/148578611#tab=reviews\n",
      "10\n",
      "https://www.ceneo.pl/148578611/opinie-2\n",
      "0\n",
      "[{'review_id': '15312267', 'author': 'd...5', 'recomendation': 'Polecam', 'stars': '5/5', 'content': 'Apple tu nie ma wad a o zaletach wiedza nawet użytkownicy androida', 'pros': ['czas pracy na baterii', 'funkcjonalność', 'jakość ekranu'], 'cons': [], 'likes': '2', 'dislikes': '1', 'publish_date': '2021-12-06 12:10:14', 'purchase_date': '2021-11-22 17:48:54'}, {'review_id': '17903230', 'author': 'j...s', 'recomendation': 'Polecam', 'stars': '5/5', 'content': 'Dużo lżejszy od poprzednich generacji , działa bardzo szybko ale bateria szybciej się rozładowuje niż we wcześniejszych generacjach', 'pros': ['funkcjonalność', 'jakość ekranu'], 'cons': ['czas pracy na baterii'], 'likes': '0', 'dislikes': '0', 'publish_date': '2023-09-14 22:31:27', 'purchase_date': '2023-09-06 13:30:35'}, {'review_id': '18513776', 'author': 'k...3', 'recomendation': 'Polecam', 'stars': '5/5', 'content': 'Całkiem fajna zabawka. Wykonuje się na nim wszystko to co na telefonie, tylko z większym ekranem. Jestem posiadaczem iPhona 12 mini, więc aby coś obejrzeć, bądź poczytać wybieram tablet.', 'pros': [], 'cons': [], 'likes': '0', 'dislikes': '0', 'publish_date': '2024-03-21 17:27:45', 'purchase_date': '2024-03-11 17:02:08'}, {'review_id': '17692412', 'author': 'a...1', 'recomendation': 'Polecam', 'stars': '5/5', 'content': 'Tablet fenomenalny, świetna jakość, aparat nie jest wybitny,ale dla mnie ok. Świetny do nauki oraz bardzo wydajna bateria. Bardzo polecam👍🏻', 'pros': [], 'cons': [], 'likes': '1', 'dislikes': '0', 'publish_date': '2023-07-10 18:17:21', 'purchase_date': '2023-04-26 17:41:44'}, {'review_id': '17332311', 'author': 'a...5', 'recomendation': 'Polecam', 'stars': '5/5', 'content': 'Produkt używam głownie do oglądania filmów. Spełnia moje oczekiwania. Intuicyjny w obsłudze, funkcjonalny i wystarczający. Jak najbardziej polecam!', 'pros': ['czas pracy na baterii', 'funkcjonalność', 'jakość ekranu'], 'cons': [], 'likes': '0', 'dislikes': '0', 'publish_date': '2023-03-29 07:15:10', 'purchase_date': '2023-03-09 14:08:24'}, {'review_id': '16358924', 'author': 'e...6', 'recomendation': 'Polecam', 'stars': '5/5', 'content': 'Stosunek ceny do jakości jak najbardziej adekwatny, używam w większości do wykonywania grafik czy oglądania i jestem zadowolona.', 'pros': ['czas pracy na baterii', 'funkcjonalność', 'jakość ekranu'], 'cons': [], 'likes': '0', 'dislikes': '0', 'publish_date': '2022-07-27 10:26:19', 'purchase_date': '2022-07-18 12:31:39'}, {'review_id': '17420446', 'author': 'a...3', 'recomendation': 'Polecam', 'stars': '5/5', 'content': 'Towar zgodny z opisem. Kolejna generacja iPada w moim domu. Poprzednia wystarczyła na ponad 5 lat. Gorąco polecam.', 'pros': [], 'cons': [], 'likes': '0', 'dislikes': '0', 'publish_date': '2023-04-19 16:31:44', 'purchase_date': '2023-04-13 13:48:19'}, {'review_id': '15954667', 'author': 'f...y', 'recomendation': 'Polecam', 'stars': '5/5', 'content': 'Cena/jakość jak najbardziej na plus. Polecam w tej półce cenowej nie znajdziecie lepszego rozwiązania', 'pros': ['czas pracy na baterii', 'funkcjonalność', 'jakość ekranu'], 'cons': [], 'likes': '0', 'dislikes': '0', 'publish_date': '2022-04-13 09:59:40', 'purchase_date': '2022-04-03 14:14:34'}, {'review_id': '16147915', 'author': 'M...k', 'recomendation': 'Polecam', 'stars': '5/5', 'content': 'Najlepszy w swojej klasie. Długie wsparcie producenta i dużo akcesoria na rynku + części zamiennych.', 'pros': ['czas pracy na baterii', 'funkcjonalność', 'jakość ekranu'], 'cons': [], 'likes': '0', 'dislikes': '0', 'publish_date': '2022-05-30 19:56:40', 'purchase_date': '2022-05-01 19:44:08'}, {'review_id': '15443941', 'author': 'e...7', 'recomendation': 'Polecam', 'stars': '5/5', 'content': 'Jakość na najwyższym poziomie, zastępuje Nam komputer. Jestem zadowolona polecam serdecznie.', 'pros': ['funkcjonalność', 'jakość ekranu'], 'cons': [], 'likes': '0', 'dislikes': '0', 'publish_date': '2021-12-28 21:35:35', 'purchase_date': '2021-11-24 18:28:47'}]\n"
     ]
    }
   ],
   "source": [
    "product_id = \"148578611\"\n",
    "next_page = f\"https://www.ceneo.pl/{product_id}#tab=reviews\"\n",
    "all_reviews = []\n",
    "while next_page:\n",
    "    response = requests.get(next_page, headers=headers)\n",
    "    print(next_page)\n",
    "    if response.status_code == 200:\n",
    "        page_dom = BeautifulSoup(response.text, \"html.parser\")\n",
    "        reviews = page_dom.select(\"div.js_product-review:not(.user-post--highlight)\")\n",
    "        print(len(reviews))\n",
    "        for review in reviews:\n",
    "            single_review = {\n",
    "                key: extract(review, *value)\n",
    "                for key, value in review_scheme.items()\n",
    "            }\n",
    "            all_reviews.append(single_review)\n",
    "\n",
    "        try:\n",
    "            next_page = \"https://www.ceneo.pl\" + extract(page_dom, \"a.pagination__next\", \"href\")\n",
    "        except TypeError:\n",
    "            next_page = None\n",
    "print(all_reviews)\n",
    "        "
   ]
  },
  {
   "cell_type": "markdown",
   "metadata": {},
   "source": [
    "### Zapisanie wszystkich opinii w bazie danych"
   ]
  },
  {
   "cell_type": "code",
   "execution_count": 6,
   "metadata": {},
   "outputs": [],
   "source": [
    "if not os.path.exists(\"./opinions\"):\n",
    "    os.mkdir(\"./opinions\")"
   ]
  },
  {
   "cell_type": "code",
   "execution_count": 7,
   "metadata": {},
   "outputs": [],
   "source": [
    "with open(f\"./opinions/{product_id}.json\", \"w\", encoding = \"UTF-8\") as jf:\n",
    "    json.dump(all_reviews, jf, indent=4, ensure_ascii=False)"
   ]
  }
 ],
 "metadata": {
  "kernelspec": {
   "display_name": ".venv",
   "language": "python",
   "name": "python3"
  },
  "language_info": {
   "codemirror_mode": {
    "name": "ipython",
    "version": 3
   },
   "file_extension": ".py",
   "mimetype": "text/x-python",
   "name": "python",
   "nbconvert_exporter": "python",
   "pygments_lexer": "ipython3",
   "version": "3.13.0"
  }
 },
 "nbformat": 4,
 "nbformat_minor": 2
}
